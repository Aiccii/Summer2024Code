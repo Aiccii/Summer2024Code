{
 "cells": [
  {
   "cell_type": "code",
   "execution_count": 2,
   "id": "initial_id",
   "metadata": {
    "collapsed": true,
    "ExecuteTime": {
     "end_time": "2024-06-22T13:28:13.534356Z",
     "start_time": "2024-06-22T13:28:13.528327Z"
    }
   },
   "outputs": [
    {
     "name": "stdout",
     "output_type": "stream",
     "text": [
      "110000.00000000001\n"
     ]
    }
   ],
   "source": [
    "base_salary = 100000\n",
    "\n",
    "bonus_rate = .10\n",
    "\n",
    "total_sal = (base_salary) * (1 + bonus_rate)\n",
    "\n",
    "print(total_sal)\n"
   ]
  },
  {
   "cell_type": "code",
   "outputs": [
    {
     "name": "stdout",
     "output_type": "stream",
     "text": [
      "talabatoo\n"
     ]
    }
   ],
   "source": [
    "luke_salary = 100000\n",
    "company_Name = \"talabatoo\"\n",
    "\n",
    "print(company_Name)"
   ],
   "metadata": {
    "collapsed": false,
    "ExecuteTime": {
     "end_time": "2024-06-22T13:28:13.549381Z",
     "start_time": "2024-06-22T13:28:13.535183Z"
    }
   },
   "id": "ef14230ad51bf2e0",
   "execution_count": 3
  },
  {
   "cell_type": "code",
   "outputs": [
    {
     "name": "stdout",
     "output_type": "stream",
     "text": [
      "True\n"
     ]
    }
   ],
   "source": [
    "job_wfh = True\n",
    "\n",
    "print(job_wfh)"
   ],
   "metadata": {
    "collapsed": false,
    "ExecuteTime": {
     "end_time": "2024-06-22T13:28:13.571073Z",
     "start_time": "2024-06-22T13:28:13.555785Z"
    }
   },
   "id": "daca25f5a491c352",
   "execution_count": 4
  },
  {
   "cell_type": "code",
   "outputs": [],
   "source": [
    "job_id = 101\n",
    "job_title = 'Data analyst'\n",
    "job_salary = 100000"
   ],
   "metadata": {
    "collapsed": false,
    "ExecuteTime": {
     "end_time": "2024-06-22T13:28:13.590359Z",
     "start_time": "2024-06-22T13:28:13.568981Z"
    }
   },
   "id": "254cfee6d36b2983",
   "execution_count": 5
  },
  {
   "cell_type": "code",
   "outputs": [
    {
     "name": "stdout",
     "output_type": "stream",
     "text": [
      "Data Job Description\n",
      "======================\n",
      "Job ID :  101\n",
      "Company Name :  talabatoo\n",
      "Job Title :  Data analyst\n",
      "Job Salary :  100000\n",
      "Job WFH :  True\n"
     ]
    }
   ],
   "source": [
    "print(\"Data Job Description\")\n",
    "print(\"======================\")\n",
    "print(\"Job ID : \", job_id)\n",
    "print(\"Company Name : \", company_Name)\n",
    "print(\"Job Title : \", job_title)\n",
    "print(\"Job Salary : \", job_salary)\n",
    "print(\"Job WFH : \", job_wfh)"
   ],
   "metadata": {
    "collapsed": false,
    "ExecuteTime": {
     "end_time": "2024-06-22T13:28:13.591055Z",
     "start_time": "2024-06-22T13:28:13.574741Z"
    }
   },
   "id": "a0cd4a93f3d1301f",
   "execution_count": 6
  }
 ],
 "metadata": {
  "kernelspec": {
   "display_name": "Python 3",
   "language": "python",
   "name": "python3"
  },
  "language_info": {
   "codemirror_mode": {
    "name": "ipython",
    "version": 2
   },
   "file_extension": ".py",
   "mimetype": "text/x-python",
   "name": "python",
   "nbconvert_exporter": "python",
   "pygments_lexer": "ipython2",
   "version": "2.7.6"
  }
 },
 "nbformat": 4,
 "nbformat_minor": 5
}
