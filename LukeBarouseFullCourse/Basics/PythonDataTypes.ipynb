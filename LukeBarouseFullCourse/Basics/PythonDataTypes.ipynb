{
 "cells": [
  {
   "cell_type": "code",
   "execution_count": 4,
   "id": "initial_id",
   "metadata": {
    "collapsed": true,
    "ExecuteTime": {
     "end_time": "2024-06-23T22:17:58.348201Z",
     "start_time": "2024-06-23T22:17:58.340105Z"
    }
   },
   "outputs": [
    {
     "name": "stdout",
     "output_type": "stream",
     "text": [
      "issa integer\n"
     ]
    }
   ],
   "source": [
    "total_salary = 110000\n",
    "bonus_salary = 10000\n",
    "\n",
    "text = \"someText\"\n",
    "\n",
    "if type(total_salary) == int : \n",
    "    print(\"issa integer\") \n",
    "else:\n",
    "    print(\"not integer\")"
   ]
  },
  {
   "cell_type": "code",
   "outputs": [
    {
     "data": {
      "text/plain": "100000"
     },
     "execution_count": 5,
     "metadata": {},
     "output_type": "execute_result"
    }
   ],
   "source": [
    "baseSalary = total_salary - bonus_salary\n",
    "\n",
    "baseSalary"
   ],
   "metadata": {
    "collapsed": false,
    "ExecuteTime": {
     "end_time": "2024-06-23T22:17:58.353970Z",
     "start_time": "2024-06-23T22:17:58.347868Z"
    }
   },
   "id": "2b37d21499cd9728",
   "execution_count": 5
  },
  {
   "cell_type": "code",
   "outputs": [
    {
     "name": "stdout",
     "output_type": "stream",
     "text": [
      "Data Analyst\n"
     ]
    }
   ],
   "source": [
    "job_title = \"Data Analyst\"\n",
    "remove_word = \"Data\"\n",
    "\n",
    "jj = job_title.removeprefix(\" \")\n",
    "\n",
    "print(jj)"
   ],
   "metadata": {
    "collapsed": false,
    "ExecuteTime": {
     "end_time": "2024-06-23T22:29:21.130001Z",
     "start_time": "2024-06-23T22:29:21.125803Z"
    }
   },
   "id": "fec79b3ff3e1583f",
   "execution_count": 15
  },
  {
   "cell_type": "code",
   "outputs": [
    {
     "data": {
      "text/plain": "int"
     },
     "execution_count": 17,
     "metadata": {},
     "output_type": "execute_result"
    }
   ],
   "source": [
    "intNum = 1000\n",
    "\n",
    "type(intNum)"
   ],
   "metadata": {
    "collapsed": false,
    "ExecuteTime": {
     "end_time": "2024-06-23T22:33:42.072595Z",
     "start_time": "2024-06-23T22:33:42.046465Z"
    }
   },
   "id": "fb11f27a97936643",
   "execution_count": 17
  },
  {
   "cell_type": "code",
   "outputs": [
    {
     "data": {
      "text/plain": "float"
     },
     "execution_count": 18,
     "metadata": {},
     "output_type": "execute_result"
    }
   ],
   "source": [
    "floatNum = float(intNum)\n",
    "\n",
    "type(floatNum)"
   ],
   "metadata": {
    "collapsed": false,
    "ExecuteTime": {
     "end_time": "2024-06-23T22:33:44.259168Z",
     "start_time": "2024-06-23T22:33:44.245139Z"
    }
   },
   "id": "66bb6a4002b6e878",
   "execution_count": 18
  }
 ],
 "metadata": {
  "kernelspec": {
   "display_name": "Python 3",
   "language": "python",
   "name": "python3"
  },
  "language_info": {
   "codemirror_mode": {
    "name": "ipython",
    "version": 2
   },
   "file_extension": ".py",
   "mimetype": "text/x-python",
   "name": "python",
   "nbconvert_exporter": "python",
   "pygments_lexer": "ipython2",
   "version": "2.7.6"
  }
 },
 "nbformat": 4,
 "nbformat_minor": 5
}
