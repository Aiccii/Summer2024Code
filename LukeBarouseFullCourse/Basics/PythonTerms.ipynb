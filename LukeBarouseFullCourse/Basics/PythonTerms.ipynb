{
 "cells": [
  {
   "cell_type": "markdown",
   "source": [
    "# to get the type of an object use the *type()* function"
   ],
   "metadata": {
    "collapsed": false
   },
   "id": "6ed4bd30b319f100"
  },
  {
   "cell_type": "code",
   "outputs": [],
   "source": [
    "print(\"Hello World   \", type(\"Hello, world!\"))"
   ],
   "metadata": {
    "collapsed": false
   },
   "id": "29861cb77b6034ce",
   "execution_count": null
  },
  {
   "cell_type": "code",
   "outputs": [],
   "source": [
    "print(2000, type(2000))"
   ],
   "metadata": {
    "collapsed": false
   },
   "id": "783caf0892eecfc8",
   "execution_count": null
  },
  {
   "cell_type": "markdown",
   "source": [
    "# the *help()* function is important to know what does a specific function do"
   ],
   "metadata": {
    "collapsed": false
   },
   "id": "d6f08c4f73260de"
  },
  {
   "cell_type": "code",
   "outputs": [],
   "source": [
    "help(map)"
   ],
   "metadata": {
    "collapsed": false
   },
   "id": "333da4074be1f8a0",
   "execution_count": null
  },
  {
   "cell_type": "code",
   "outputs": [],
   "source": [
    "help(str)"
   ],
   "metadata": {
    "collapsed": false
   },
   "id": "8ef76e0be605b145",
   "execution_count": null
  },
  {
   "cell_type": "markdown",
   "source": [
    "# Variables Examples"
   ],
   "metadata": {
    "collapsed": false
   },
   "id": "4af0801b4ca4dd72"
  },
  {
   "cell_type": "code",
   "outputs": [],
   "source": [
    "job_title = \"Data Analyst\"\n",
    "job_location = \"Belgium\"\n",
    "job_salary = 52000"
   ],
   "metadata": {
    "collapsed": false
   },
   "id": "7d139845c3b70489",
   "execution_count": null
  },
  {
   "cell_type": "code",
   "outputs": [],
   "source": [
    "id(job_title)"
   ],
   "metadata": {
    "collapsed": false
   },
   "id": "48b38cd1291098d0",
   "execution_count": null
  },
  {
   "cell_type": "markdown",
   "source": [
    "# some C examples of IDs"
   ],
   "metadata": {
    "collapsed": false
   },
   "id": "3df69376ea711015"
  },
  {
   "cell_type": "code",
   "outputs": [],
   "source": [
    "job_1 = \"Data Engineer\"\n",
    "job_2 = \"Data Engineer\"\n",
    "\n",
    "id(job_1), id(job_2)"
   ],
   "metadata": {
    "collapsed": false
   },
   "id": "39b80ab3d86fddba",
   "execution_count": null
  },
  {
   "cell_type": "markdown",
   "source": [
    "# as seen above the id's are different even though they are the same text\n",
    "\n",
    "# *to have the same id assign the object to another*"
   ],
   "metadata": {
    "collapsed": false
   },
   "id": "d50e6fcc350ed034"
  },
  {
   "cell_type": "code",
   "outputs": [],
   "source": [
    "job_3 = job_1\n",
    "\n",
    "id(job_3)\n",
    "\n",
    "# as seen above and below the id for job 3 is the same as job_1"
   ],
   "metadata": {
    "collapsed": false
   },
   "id": "dfa30531d3801a75",
   "execution_count": null
  },
  {
   "cell_type": "code",
   "outputs": [],
   "source": [
    "# you could assign functions to a variable\n",
    "\n",
    "printfunction = print\n",
    "\n",
    "printfunction(\"print function duh\")"
   ],
   "metadata": {
    "collapsed": false
   },
   "id": "81c32a4134309a06",
   "execution_count": null
  },
  {
   "cell_type": "markdown",
   "source": [
    "# Creating a function like java"
   ],
   "metadata": {
    "collapsed": false
   },
   "id": "fd7a16b3ee51f25c"
  },
  {
   "cell_type": "code",
   "outputs": [],
   "source": [
    "def greet() :\n",
    "    return \"this is a normal greeting function\"\n",
    "\n",
    "greet()\n"
   ],
   "metadata": {
    "collapsed": false
   },
   "id": "de21e81e4aa81a24",
   "execution_count": null
  },
  {
   "cell_type": "code",
   "outputs": [],
   "source": [
    "def advancedGreetings(name) :\n",
    "    return f\"hello : {name}\"\n",
    "\n",
    "advancedGreetings(\"yasso\")"
   ],
   "metadata": {
    "collapsed": false
   },
   "id": "770a1da9127f4851",
   "execution_count": null
  },
  {
   "cell_type": "code",
   "outputs": [],
   "source": [
    "# creating a function to do the printing for us\n",
    "\n",
    "def display_info(title, location, salary) :\n",
    "    return print(f\"Job : {title}\\nLocation : {location}\\nSalary : {salary}\")\n",
    "\n",
    "display_info(job_title, job_location, job_salary)"
   ],
   "metadata": {
    "collapsed": false
   },
   "id": "c7456154ae94bf03",
   "execution_count": null
  },
  {
   "cell_type": "markdown",
   "source": [
    "# the next thing we are doing is Classes"
   ],
   "metadata": {
    "collapsed": false
   },
   "id": "7cdc9206d33ba5ba"
  },
  {
   "cell_type": "code",
   "outputs": [],
   "source": [
    "type(10000)\n",
    "\n",
    "help(int)"
   ],
   "metadata": {
    "collapsed": false
   },
   "id": "67cb6604223ef220",
   "execution_count": null
  },
  {
   "cell_type": "code",
   "outputs": [
    {
     "data": {
      "text/plain": "<__main__.JobPost at 0x1071e6400>"
     },
     "execution_count": 32,
     "metadata": {},
     "output_type": "execute_result"
    }
   ],
   "source": [
    "# building a class in python\n",
    "\n",
    "class JobPost:\n",
    "    def __init__(self, job_tit, job_loca, job_sal):\n",
    "        self.job_tit = job_tit\n",
    "        self.job_loca = job_loca\n",
    "        self.job_sal = job_sal\n",
    "\n",
    "\n",
    "JobPost(job_title, job_location, job_salary)"
   ],
   "metadata": {
    "collapsed": false,
    "ExecuteTime": {
     "end_time": "2024-06-23T21:40:25.618220Z",
     "start_time": "2024-06-23T21:40:25.596049Z"
    }
   },
   "id": "61aa2c7c85fc94bd",
   "execution_count": 32
  },
  {
   "cell_type": "code",
   "outputs": [
    {
     "name": "stdout",
     "output_type": "stream",
     "text": [
      "Data Analyst\n"
     ]
    }
   ],
   "source": [
    "# to assign and access the variables inside the class we created\n",
    "\n",
    "job1 = JobPost(job_title, job_location, job_salary)\n",
    "\n",
    "# to print the variables we created above\n",
    "print(job1.job_tit)"
   ],
   "metadata": {
    "collapsed": false,
    "ExecuteTime": {
     "end_time": "2024-06-23T21:42:16.482852Z",
     "start_time": "2024-06-23T21:42:16.472161Z"
    }
   },
   "id": "476bb9d4ca3cddcc",
   "execution_count": 36
  },
  {
   "cell_type": "markdown",
   "source": [
    "# Methods"
   ],
   "metadata": {
    "collapsed": false
   },
   "id": "d802bc3324b549d1"
  },
  {
   "cell_type": "code",
   "outputs": [],
   "source": [
    "class JobPost1:\n",
    "    \"\"\"\n",
    "    this class stores the variables and then prints them out\n",
    "    to be fair i have nothing to add\n",
    "    \n",
    "\n",
    "    \"\"\"\n",
    "    def __init__(self, job_tit, job_loca, job_sal):\n",
    "        self.job_tit = job_tit\n",
    "        self.job_loca = job_loca\n",
    "        self.job_sal = job_sal\n",
    "       \n",
    "    def display_info1(self) :\n",
    "        return print(f\"Job : {self.job_tit}\\nLocation : {self.job_loca}\\nSalary : {self.job_sal}\")\n",
    "    \n",
    "# the above is a class that is used to store variables and then printing them\n",
    "\n",
    "job2 = JobPost1(job_title, job_location, job_salary)\n"
   ],
   "metadata": {
    "collapsed": false,
    "ExecuteTime": {
     "end_time": "2024-06-23T21:52:38.570774Z",
     "start_time": "2024-06-23T21:52:38.565456Z"
    }
   },
   "id": "b56a4638ee80257c",
   "execution_count": 43
  },
  {
   "cell_type": "code",
   "outputs": [
    {
     "name": "stdout",
     "output_type": "stream",
     "text": [
      "Job : Data Analyst\n",
      "Location : Belgium\n",
      "Salary : 52000\n",
      "Help on JobPost1 in module __main__ object:\n",
      "\n",
      "class JobPost1(builtins.object)\n",
      " |  JobPost1(job_tit, job_loca, job_sal)\n",
      " |  \n",
      " |  this class stores the variables and then prints them out\n",
      " |  to be fair i have nothing to add\n",
      " |  \n",
      " |  Methods defined here:\n",
      " |  \n",
      " |  __init__(self, job_tit, job_loca, job_sal)\n",
      " |      Initialize self.  See help(type(self)) for accurate signature.\n",
      " |  \n",
      " |  display_info1(self)\n",
      " |  \n",
      " |  ----------------------------------------------------------------------\n",
      " |  Data descriptors defined here:\n",
      " |  \n",
      " |  __dict__\n",
      " |      dictionary for instance variables (if defined)\n",
      " |  \n",
      " |  __weakref__\n",
      " |      list of weak references to the object (if defined)\n"
     ]
    }
   ],
   "source": [
    "# now we are going to trigger the function that prints the values defined above\n",
    "# the self is like this in Java\n",
    "job2.display_info1()\n",
    "\n",
    "help(job2)"
   ],
   "metadata": {
    "collapsed": false,
    "ExecuteTime": {
     "end_time": "2024-06-23T21:52:45.512929Z",
     "start_time": "2024-06-23T21:52:45.486053Z"
    }
   },
   "id": "30e9a9d3b0ff5f57",
   "execution_count": 44
  },
  {
   "cell_type": "code",
   "outputs": [
    {
     "data": {
      "text/plain": "52200"
     },
     "execution_count": 47,
     "metadata": {},
     "output_type": "execute_result"
    }
   ],
   "source": [
    "job_salary.__add__(200)\n"
   ],
   "metadata": {
    "collapsed": false,
    "ExecuteTime": {
     "end_time": "2024-06-23T21:54:43.009054Z",
     "start_time": "2024-06-23T21:54:42.986782Z"
    }
   },
   "id": "756e2f67d2c4366d",
   "execution_count": 47
  },
  {
   "cell_type": "code",
   "outputs": [],
   "source": [
    "job_salary = job_salary + 2000"
   ],
   "metadata": {
    "collapsed": false,
    "ExecuteTime": {
     "end_time": "2024-06-23T21:55:08.602427Z",
     "start_time": "2024-06-23T21:55:08.564470Z"
    }
   },
   "id": "cac54e7b0e243f34",
   "execution_count": 50
  },
  {
   "cell_type": "code",
   "outputs": [
    {
     "data": {
      "text/plain": "'Data Analyst'"
     },
     "execution_count": 53,
     "metadata": {},
     "output_type": "execute_result"
    }
   ],
   "source": [
    "job_title"
   ],
   "metadata": {
    "collapsed": false,
    "ExecuteTime": {
     "end_time": "2024-06-23T21:55:26.177013Z",
     "start_time": "2024-06-23T21:55:26.173491Z"
    }
   },
   "id": "a9c5b28f720bd368",
   "execution_count": 53
  },
  {
   "cell_type": "code",
   "outputs": [],
   "source": [],
   "metadata": {
    "collapsed": false
   },
   "id": "ee9a9a0ba278ea"
  }
 ],
 "metadata": {
  "kernelspec": {
   "display_name": "Python 3",
   "language": "python",
   "name": "python3"
  },
  "language_info": {
   "codemirror_mode": {
    "name": "ipython",
    "version": 2
   },
   "file_extension": ".py",
   "mimetype": "text/x-python",
   "name": "python",
   "nbconvert_exporter": "python",
   "pygments_lexer": "ipython2",
   "version": "2.7.6"
  }
 },
 "nbformat": 4,
 "nbformat_minor": 5
}
